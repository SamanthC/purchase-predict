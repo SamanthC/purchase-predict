{
 "cells": [
  {
   "cell_type": "markdown",
   "metadata": {},
   "source": [
    "# Blent : Hyperparameters Optimization\n",
    "\n",
    "In this nootebook, we will try ot find the best hyperparameters to train the model. Insted of random testing or grid search, we will have a bayesian approach to maximize the score function called __Sequential Model Based Optimisation (SMBO)__. For that, as the score function is to complex to maximize, we will maximize a simpler model (surrogate model) which is a __Tree Of Partzen Estimator (TPE)__. For that we will also use the Expected Improvement (EI) function to find the best point (hyperparam combination) to analyse for the net iterration of the SMBO.\n",
    "\n",
    "Then we will display the calibration curve to make sure that the threshold we chosed is OK\n",
    "\n",
    "## Opitimization"
   ]
  },
  {
   "cell_type": "code",
   "execution_count": 1,
   "metadata": {},
   "outputs": [],
   "source": [
    "import os\n",
    "import numpy as np\n",
    "import pandas as pd\n",
    "import matplotlib.pyplot as plt\n",
    "import seaborn as sns\n",
    "\n",
    "sns.set()"
   ]
  },
  {
   "cell_type": "code",
   "execution_count": 2,
   "metadata": {},
   "outputs": [],
   "source": [
    "d = os.getcwd()\n",
    "df = pd.read_csv(d+\"\\\\data\\\\sample.csv\")"
   ]
  },
  {
   "cell_type": "code",
   "execution_count": 3,
   "metadata": {},
   "outputs": [],
   "source": [
    "X = pd.read_csv(d+\"\\\\data\\\\X.csv\")\n",
    "y = pd.read_csv(d+\"\\\\data\\\\y.csv\")\n",
    "\n",
    "X_train = pd.read_csv(d+\"\\\\data\\\\X_train.csv\")\n",
    "X_test = pd.read_csv(d+\"\\\\data\\\\X_test.csv\")\n",
    "y_train = pd.read_csv(d+\"\\\\data\\\\y_train.csv\").values.flatten()\n",
    "y_test = pd.read_csv(d+\"\\\\data\\\\y_test.csv\").values.flatten()"
   ]
  },
  {
   "cell_type": "code",
   "execution_count": 4,
   "metadata": {},
   "outputs": [
    {
     "name": "stderr",
     "output_type": "stream",
     "text": [
      "C:\\Users\\saman\\AppData\\Local\\Continuum\\anaconda3\\lib\\site-packages\\dask\\config.py:161: YAMLLoadWarning: calling yaml.load() without Loader=... is deprecated, as the default Loader is unsafe. Please read https://msg.pyyaml.org/load for full details.\n",
      "  data = yaml.load(f.read()) or {}\n",
      "C:\\Users\\saman\\AppData\\Local\\Continuum\\anaconda3\\lib\\site-packages\\dask\\dataframe\\utils.py:13: FutureWarning: pandas.util.testing is deprecated. Use the functions in the public API at pandas.testing instead.\n",
      "  import pandas.util.testing as tm\n",
      "C:\\Users\\saman\\AppData\\Local\\Continuum\\anaconda3\\lib\\site-packages\\distributed\\config.py:20: YAMLLoadWarning: calling yaml.load() without Loader=... is deprecated, as the default Loader is unsafe. Please read https://msg.pyyaml.org/load for full details.\n",
      "  defaults = yaml.load(f)\n"
     ]
    }
   ],
   "source": [
    "from lightgbm.sklearn import LGBMClassifier\n",
    "from hyperopt import hp, tpe, fmin\n",
    "\n",
    "MODEL_SPECS = {\n",
    "    \"name\": \"LightGBM\",\n",
    "    \"class\": LGBMClassifier,\n",
    "    \"max_evals\": 20,\n",
    "    \"params\": {\n",
    "        \"learning_rate\": hp.uniform(\"learning_rate\", 0.001, 1),\n",
    "        \"num_iterations\": hp.quniform(\"num_iterations\", 100, 1000, 20),\n",
    "        \"max_depth\": hp.quniform(\"max_depth\", 4, 12, 6),\n",
    "        \"num_leaves\": hp.quniform(\"num_leaves\", 8, 128, 10),\n",
    "        \"colsample_bytree\": hp.uniform(\"colsample_bytree\", 0.3, 1),\n",
    "        \"subsample\": hp.uniform(\"subsample\", 0.5, 1),\n",
    "        \"min_child_samples\": hp.quniform(\"min_child_samples\", 1, 20, 10),\n",
    "        \"reg_alpha\": hp.choice(\"reg_alpha\", [0, 1e-1, 1, 2, 5, 10]),\n",
    "        \"reg_lambda\": hp.choice(\"reg_lambda\", [0, 1e-1, 1, 2, 5, 10]),\n",
    "    },\n",
    "    \"override_schemas\": {\n",
    "        \"num_leaves\": int, \"min_child_samples\": int, \"max_depth\": int, \"num_iterations\": int\n",
    "    }\n",
    "}"
   ]
  },
  {
   "cell_type": "code",
   "execution_count": 26,
   "metadata": {},
   "outputs": [],
   "source": [
    "from sklearn.model_selection import RepeatedKFold\n",
    "\n",
    "def optimize_hyp(instance, training_set, search_space, metric, evals=10):\n",
    "    # Function to minimize (metric will be minus f1_score)\n",
    "    def objective(args):\n",
    "        print(args)\n",
    "        for param in set(list(MODEL_SPECS[\"override_schemas\"].keys())).intersection(set(args.keys())):\n",
    "            cast_instance = MODEL_SPECS['override_schemas'][param]\n",
    "            args[param] = cast_instance(args[param])\n",
    "            \n",
    "            \n",
    "        # Cross Validation\n",
    "        rep_kfold = RepeatedKFold(n_splits=4, n_repeats=1)\n",
    "        scores_test = []\n",
    "        for train_I, test_I in rep_kfold.split(X):\n",
    "            X_fold_train = X.iloc[train_I, :]\n",
    "            y_fold_train = y.iloc[train_I]\n",
    "            X_fold_test = X.iloc[test_I, :]\n",
    "            y_fold_test = y.iloc[test_I]\n",
    "\n",
    "            # On entraîne un LightGBM avec les paramètres par défaut\n",
    "            model = LGBMClassifier(**args, objective=\"binary\", verbose=-1)\n",
    "            model.fit(X_fold_train, y_fold_train)\n",
    "\n",
    "            # On calcule le score du modèle sur le test\n",
    "            scores_test.append(\n",
    "                metric(y_fold_test, model.predict(X_fold_test))\n",
    "            )\n",
    "\n",
    "        return np.mean(scores_test)\n",
    "\n",
    "    return fmin(fn=objective, space=search_space, algo=tpe.suggest, max_evals=evals)"
   ]
  },
  {
   "cell_type": "code",
   "execution_count": 27,
   "metadata": {
    "scrolled": true
   },
   "outputs": [
    {
     "name": "stdout",
     "output_type": "stream",
     "text": [
      "{'colsample_bytree': 0.6165320835788197, 'learning_rate': 0.36001542730476094, 'max_depth': 12.0, 'min_child_samples': 20.0, 'num_iterations': 640.0, 'num_leaves': 50.0, 'reg_alpha': 2, 'reg_lambda': 0, 'subsample': 0.5045024417273205}\n",
      "{'colsample_bytree': 0.848125050193651, 'learning_rate': 0.949979611093826, 'max_depth': 6.0, 'min_child_samples': 10.0, 'num_iterations': 160.0, 'num_leaves': 50.0, 'reg_alpha': 5, 'reg_lambda': 2, 'subsample': 0.6285019111256439}\n",
      "{'colsample_bytree': 0.8035327729390789, 'learning_rate': 0.2614838641815695, 'max_depth': 6.0, 'min_child_samples': 0.0, 'num_iterations': 640.0, 'num_leaves': 90.0, 'reg_alpha': 5, 'reg_lambda': 5, 'subsample': 0.9460472392495558}\n",
      "{'colsample_bytree': 0.5979144760151137, 'learning_rate': 0.962759587793921, 'max_depth': 12.0, 'min_child_samples': 20.0, 'num_iterations': 560.0, 'num_leaves': 100.0, 'reg_alpha': 10, 'reg_lambda': 0, 'subsample': 0.9516272164979152}\n",
      "{'colsample_bytree': 0.3151183591508425, 'learning_rate': 0.9609320903982069, 'max_depth': 6.0, 'min_child_samples': 20.0, 'num_iterations': 760.0, 'num_leaves': 60.0, 'reg_alpha': 1, 'reg_lambda': 10, 'subsample': 0.9277982796983066}\n",
      "{'colsample_bytree': 0.7270281678847347, 'learning_rate': 0.5889390625440081, 'max_depth': 12.0, 'min_child_samples': 10.0, 'num_iterations': 760.0, 'num_leaves': 90.0, 'reg_alpha': 5, 'reg_lambda': 2, 'subsample': 0.6401059643544358}\n",
      "{'colsample_bytree': 0.5897187597695268, 'learning_rate': 0.6015274851742325, 'max_depth': 6.0, 'min_child_samples': 20.0, 'num_iterations': 460.0, 'num_leaves': 70.0, 'reg_alpha': 1, 'reg_lambda': 5, 'subsample': 0.6788705758168293}\n",
      "{'colsample_bytree': 0.3551409029361089, 'learning_rate': 0.27164385067439945, 'max_depth': 6.0, 'min_child_samples': 10.0, 'num_iterations': 720.0, 'num_leaves': 60.0, 'reg_alpha': 5, 'reg_lambda': 10, 'subsample': 0.5574327367733645}\n",
      "{'colsample_bytree': 0.5983002357150191, 'learning_rate': 0.25741478854810157, 'max_depth': 6.0, 'min_child_samples': 20.0, 'num_iterations': 620.0, 'num_leaves': 30.0, 'reg_alpha': 1, 'reg_lambda': 5, 'subsample': 0.5431737689342443}\n",
      "{'colsample_bytree': 0.6559094342152767, 'learning_rate': 0.9509616472857017, 'max_depth': 6.0, 'min_child_samples': 10.0, 'num_iterations': 340.0, 'num_leaves': 100.0, 'reg_alpha': 1, 'reg_lambda': 1, 'subsample': 0.6662863027848172}\n",
      "{'colsample_bytree': 0.9913710814305106, 'learning_rate': 0.8961146246166998, 'max_depth': 6.0, 'min_child_samples': 10.0, 'num_iterations': 340.0, 'num_leaves': 50.0, 'reg_alpha': 5, 'reg_lambda': 5, 'subsample': 0.5114452635674558}\n",
      "{'colsample_bytree': 0.7654846283044593, 'learning_rate': 0.876553658983035, 'max_depth': 12.0, 'min_child_samples': 0.0, 'num_iterations': 640.0, 'num_leaves': 50.0, 'reg_alpha': 0.1, 'reg_lambda': 0, 'subsample': 0.5911197522463549}\n",
      "{'colsample_bytree': 0.7795024256285437, 'learning_rate': 0.6173651644697685, 'max_depth': 6.0, 'min_child_samples': 10.0, 'num_iterations': 820.0, 'num_leaves': 70.0, 'reg_alpha': 5, 'reg_lambda': 0.1, 'subsample': 0.7714587578561493}\n",
      "{'colsample_bytree': 0.8436450862619824, 'learning_rate': 0.4853630162587917, 'max_depth': 12.0, 'min_child_samples': 0.0, 'num_iterations': 420.0, 'num_leaves': 130.0, 'reg_alpha': 0.1, 'reg_lambda': 0.1, 'subsample': 0.9652130889184065}\n",
      "{'colsample_bytree': 0.6184196030878234, 'learning_rate': 0.2191490946282981, 'max_depth': 6.0, 'min_child_samples': 20.0, 'num_iterations': 200.0, 'num_leaves': 10.0, 'reg_alpha': 5, 'reg_lambda': 5, 'subsample': 0.5513404748843299}\n",
      "{'colsample_bytree': 0.6634484292880616, 'learning_rate': 0.9100962545608187, 'max_depth': 6.0, 'min_child_samples': 20.0, 'num_iterations': 320.0, 'num_leaves': 70.0, 'reg_alpha': 5, 'reg_lambda': 10, 'subsample': 0.8910598137523376}\n",
      "{'colsample_bytree': 0.3243813767182406, 'learning_rate': 0.13062938674075286, 'max_depth': 6.0, 'min_child_samples': 20.0, 'num_iterations': 720.0, 'num_leaves': 60.0, 'reg_alpha': 2, 'reg_lambda': 10, 'subsample': 0.6487591850804721}\n",
      "{'colsample_bytree': 0.45094526691899145, 'learning_rate': 0.4666897836587665, 'max_depth': 6.0, 'min_child_samples': 10.0, 'num_iterations': 760.0, 'num_leaves': 100.0, 'reg_alpha': 2, 'reg_lambda': 0.1, 'subsample': 0.5576946304737784}\n",
      "{'colsample_bytree': 0.767679601390979, 'learning_rate': 0.14876142769161288, 'max_depth': 6.0, 'min_child_samples': 10.0, 'num_iterations': 700.0, 'num_leaves': 80.0, 'reg_alpha': 5, 'reg_lambda': 0.1, 'subsample': 0.9813129376969763}\n",
      "{'colsample_bytree': 0.4529982029818411, 'learning_rate': 0.12332208417517712, 'max_depth': 6.0, 'min_child_samples': 20.0, 'num_iterations': 600.0, 'num_leaves': 110.0, 'reg_alpha': 1, 'reg_lambda': 10, 'subsample': 0.7300762641765779}\n",
      "100%|███████████████████████████████████████████████| 20/20 [01:37<00:00,  4.89s/trial, best loss: -0.8800788478420042]\n"
     ]
    }
   ],
   "source": [
    "from sklearn.metrics import f1_score\n",
    "\n",
    "import warnings\n",
    "warnings.filterwarnings('ignore')\n",
    "\n",
    "optimum_params = optimize_hyp(\n",
    "    MODEL_SPECS['class'],\n",
    "    training_set=(X_train, y_train),\n",
    "    search_space=MODEL_SPECS[\"params\"],\n",
    "    metric=lambda x, y: -f1_score(x, y), # Here is the metric : minus f1_score\n",
    "    evals=MODEL_SPECS[\"max_evals\"],\n",
    ")"
   ]
  },
  {
   "cell_type": "code",
   "execution_count": 28,
   "metadata": {},
   "outputs": [
    {
     "data": {
      "text/plain": [
       "{'colsample_bytree': 0.6184196030878234,\n",
       " 'learning_rate': 0.2191490946282981,\n",
       " 'max_depth': 6.0,\n",
       " 'min_child_samples': 20.0,\n",
       " 'num_iterations': 200.0,\n",
       " 'num_leaves': 10.0,\n",
       " 'reg_alpha': 4,\n",
       " 'reg_lambda': 4,\n",
       " 'subsample': 0.5513404748843299}"
      ]
     },
     "execution_count": 28,
     "metadata": {},
     "output_type": "execute_result"
    }
   ],
   "source": [
    "optimum_params"
   ]
  },
  {
   "cell_type": "code",
   "execution_count": 29,
   "metadata": {},
   "outputs": [
    {
     "data": {
      "text/plain": [
       "LGBMClassifier(colsample_bytree=0.6184196030878234,\n",
       "               learning_rate=0.2191490946282981, max_depth=6,\n",
       "               num_iterations=200, num_leaves=10, reg_alpha=4, reg_lambda=4,\n",
       "               subsample=0.5513404748843299)"
      ]
     },
     "execution_count": 29,
     "metadata": {},
     "output_type": "execute_result"
    }
   ],
   "source": [
    "# Now that we have the optimum parameteres we can put them in the model anf train it (before that we make sure\n",
    "# the parameters are in the right type)\n",
    "for param in MODEL_SPECS['override_schemas']:\n",
    "    cast_instance = MODEL_SPECS['override_schemas'][param]\n",
    "    optimum_params[param] = cast_instance(optimum_params[param])\n",
    "\n",
    "model = LGBMClassifier(**optimum_params)\n",
    "model.fit(X_train, y_train)"
   ]
  },
  {
   "cell_type": "code",
   "execution_count": 30,
   "metadata": {},
   "outputs": [
    {
     "name": "stdout",
     "output_type": "stream",
     "text": [
      "F1 Score : 87.7%\n",
      "Precision : 80.1%\n",
      "Recall : 96.9%\n"
     ]
    }
   ],
   "source": [
    "from sklearn.metrics import recall_score, precision_score\n",
    "\n",
    "print(\"F1 Score : {:2.1f}%\".format(f1_score(y_test, model.predict(X_test)) * 100))\n",
    "print(\"Precision : {:2.1f}%\".format(precision_score(y_test, model.predict(X_test)) * 100))\n",
    "print(\"Recall : {:2.1f}%\".format(recall_score(y_test, model.predict(X_test)) * 100))"
   ]
  },
  {
   "cell_type": "code",
   "execution_count": 41,
   "metadata": {},
   "outputs": [
    {
     "data": {
      "text/plain": [
       "['C:\\\\Users\\\\saman\\\\Documents\\\\Python\\\\Blent\\\\data\\\\model.pkl']"
      ]
     },
     "execution_count": 41,
     "metadata": {},
     "output_type": "execute_result"
    }
   ],
   "source": [
    "#Now we put the model in a pickle file\n",
    "\n",
    "import joblib\n",
    "\n",
    "joblib.dump(model, os.path.expanduser(d+\"\\\\data\\\\model.pkl\"))"
   ]
  },
  {
   "cell_type": "markdown",
   "metadata": {},
   "source": [
    "## Calibration Curve\n",
    "\n",
    "Finally let's display the calibration curve to make sure what is the adapted threshlod to consider a prob as positive"
   ]
  },
  {
   "cell_type": "code",
   "execution_count": 40,
   "metadata": {},
   "outputs": [
    {
     "data": {
      "image/png": "[encoded data removed]",
      "text/plain": [
       "<Figure size 1152x720 with 1 Axes>"
      ]
     },
     "metadata": {},
     "output_type": "display_data"
    }
   ],
   "source": [
    "import matplotlib.ticker as mtick\n",
    "\n",
    "from sklearn.calibration import calibration_curve\n",
    "\n",
    "prob_pos = model.predict_proba(X_test)[:, 1]\n",
    "fraction_of_positives, mean_predicted_value = calibration_curve(y_test, prob_pos, n_bins=20)\n",
    "\n",
    "plt.figure(figsize=(16, 10))\n",
    "plt.plot([0, 1], [0, 1], \"k--\", label=\"Perfectly calibrated\", alpha=0.6)\n",
    "plt.plot(mean_predicted_value, fraction_of_positives, \"s-\", label=\"Model\")\n",
    "plt.ylabel(\"Fraction of positives\")\n",
    "plt.xlabel(\"Predicted probabilites\")\n",
    "plt.legend()\n",
    "plt.gca().xaxis.set_major_formatter(mtick.PercentFormatter(1, 0))\n",
    "plt.gca().yaxis.set_major_formatter(mtick.PercentFormatter(1, 0))\n",
    "plt.title(\"Calibration Curve\")\n",
    "plt.show()"
   ]
  },
  {
   "cell_type": "code",
   "execution_count": 33,
   "metadata": {},
   "outputs": [
    {
     "data": {
      "text/plain": [
       "5743"
      ]
     },
     "execution_count": 33,
     "metadata": {},
     "output_type": "execute_result"
    }
   ],
   "source": [
    "len(prob_pos)"
   ]
  },
  {
   "cell_type": "code",
   "execution_count": 34,
   "metadata": {},
   "outputs": [
    {
     "data": {
      "text/plain": [
       "array([1, 1, 1, ..., 1, 1, 0], dtype=int64)"
      ]
     },
     "execution_count": 34,
     "metadata": {},
     "output_type": "execute_result"
    }
   ],
   "source": [
    "y_test"
   ]
  },
  {
   "cell_type": "code",
   "execution_count": null,
   "metadata": {},
   "outputs": [],
   "source": []
  }
 ],
 "metadata": {
  "kernelspec": {
   "display_name": "Python 3 (ipykernel)",
   "language": "python",
   "name": "python3"
  },
  "language_info": {
   "codemirror_mode": {
    "name": "ipython",
    "version": 3
   },
   "file_extension": ".py",
   "mimetype": "text/x-python",
   "name": "python",
   "nbconvert_exporter": "python",
   "pygments_lexer": "ipython3",
   "version": "3.7.1"
  }
 },
 "nbformat": 4,
 "nbformat_minor": 2
}
