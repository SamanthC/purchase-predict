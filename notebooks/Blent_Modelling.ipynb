{
 "cells": [
  {
   "cell_type": "markdown",
   "metadata": {},
   "source": [
    "# Blent : Modeelling\n",
    "\n",
    "Now that we deep dived  in the data to understand the problem to solve, we can transform the data to train a Light GBM model\n",
    "\n",
    "### Data transformation\n",
    "\n",
    "First let's create some columns to add information on sessions and products"
   ]
  },
  {
   "cell_type": "code",
   "execution_count": 1,
   "metadata": {},
   "outputs": [
    {
     "name": "stderr",
     "output_type": "stream",
     "text": [
      "C:\\Users\\saman\\AppData\\Local\\Continuum\\anaconda3\\lib\\site-packages\\pandas\\compat\\_optional.py:138: UserWarning: Pandas requires version '2.7.0' or newer of 'numexpr' (version '2.6.8' currently installed).\n",
      "  warnings.warn(msg, UserWarning)\n"
     ]
    }
   ],
   "source": [
    "import pandas as pd\n",
    "import numpy as np\n",
    "import os"
   ]
  },
  {
   "cell_type": "code",
   "execution_count": 2,
   "metadata": {},
   "outputs": [],
   "source": [
    "d = os.getcwd()\n",
    "df = pd.read_csv(d+\"\\\\data\\\\sample.csv\")"
   ]
  },
  {
   "cell_type": "code",
   "execution_count": 3,
   "metadata": {},
   "outputs": [],
   "source": [
    "#Convert event_time to datetime type and extract day, hour and minute\n",
    "\n",
    "df[\"event_time\"] = pd.to_datetime(df[\"event_time\"])\n",
    "\n",
    "df[\"event_day\"] = df[\"event_time\"].dt.day\n",
    "df[\"event_hour\"] = df[\"event_time\"].dt.hour\n",
    "df[\"event_minute\"] = df[\"event_time\"].dt.minute"
   ]
  },
  {
   "cell_type": "code",
   "execution_count": 4,
   "metadata": {},
   "outputs": [
    {
     "data": {
      "text/plain": [
       "(22971, 16)"
      ]
     },
     "execution_count": 4,
     "metadata": {},
     "output_type": "execute_result"
    }
   ],
   "source": [
    "df_modelling = df.copy()\n",
    "\n",
    "# We convert the date/time column to datetime type and add day, hour and minute information\n",
    "df_modelling[\"event_time\"] = pd.to_datetime(df_modelling[\"event_time\"])\n",
    "df_modelling[\"event_hour\"] = df_modelling[\"event_time\"].dt.hour\n",
    "df_modelling[\"event_minute\"] = df_modelling[\"event_time\"].dt.minute\n",
    "df_modelling[\"event_weekday\"] = df_modelling[\"event_time\"].dt.dayofweek\n",
    "\n",
    "# This new column indicates whether this item was purchased or not during the session\n",
    "df_modelling[\"purchase\"] = np.where(df_modelling[\"event_type\"] == \"purchase\", 1, 0)\n",
    "df_modelling[\"purchase\"] = df_modelling.groupby([\"product_id\", \"user_session\"])[\"purchase\"].transform(\"max\")\n",
    "\n",
    "# This new column indicates how many views there were in this session\n",
    "df_modelling[\"view_session\"] = np.where(df_modelling[\"event_type\"] == \"view\", 1, 0)\n",
    "df_modelling[\"view_session\"] = df_modelling.groupby([\"user_session\"])[\"view_session\"].transform(\"sum\") \n",
    "\n",
    "\n",
    "# This new column indicates how many times this item was viewed during the session\n",
    "df_modelling[\"view_product_session\"] = np.where(df_modelling[\"event_type\"] == \"view\", 1, 0)\n",
    "df_modelling[\"view_product_session\"] = df_modelling.groupby([\"product_id\", \"user_session\"])[\"view_product_session\"].transform(\"sum\") \n",
    "\n",
    "# The column \"duration\" indicates the duration of the session between the first event and the last event.\n",
    "\n",
    "#df_duration_2 = df.loc[:,(\"user_session\", \"event_time\")]\n",
    "#df_duration_2[\"time_min\"] = df_duration_2.groupby([\"user_session\"])[\"event_time\"].transform(\"min\")\n",
    "#df_duration_2[\"time_max\"] = df_duration_2.groupby([\"user_session\"])[\"event_time\"].transform(\"max\")\n",
    "#df_duration_2[\"duration\"] = (df_duration_2[\"time_max\"]-df_duration_2[\"time_min\"]).dt.seconds\n",
    "#df_duration_2 = df_duration_2.drop_duplicates(subset=\"user_session\")\n",
    "#df_modelling = df_modelling.merge(df_duration_2[[\"user_session\", \"duration\"]], how = \"left\", on = \"user_session\")\n",
    "\n",
    "df_modelling[\"duration\"] = (df_modelling.groupby([\"user_session\"])[\"event_time\"].transform(\"max\") \\\n",
    "                            - df_modelling.groupby([\"user_session\"])[\"event_time\"].transform(\"min\")).dt.seconds\n",
    "\n",
    "\n",
    "# The column \"number_of_prev_sess\" indicates the number of previous sessions related to the user_id\n",
    "\n",
    "df_temp = df_modelling[[\"user_session\", \"user_id\", \"event_time\"]] \\\n",
    "            .groupby([\"user_id\", \"user_session\"]) \\\n",
    "            .first() \\\n",
    "            .reset_index()\n",
    "\n",
    "df_temp[\"number_of_previous_sess\"] = df_temp \\\n",
    "                                    .sort_values(\"event_time\") \\\n",
    "                                    .groupby(\"user_id\") \\\n",
    "                                    .cumcount()\n",
    "\n",
    "df_modelling = df_modelling.merge(df_temp[[\"user_session\", \"number_of_previous_sess\"]], how = \"left\", on = \"user_session\")\n",
    "\n",
    "# The column \"number_of_prev_sess_item\" how many times a user already viewed an item in  previous sessions\n",
    "\n",
    "df_temp_2 = df_modelling[[\"user_session\", \"user_id\", \"event_time\", \"product_id\"]] \\\n",
    "            .groupby([\"user_id\", \"user_session\", \"product_id\"]) \\\n",
    "            .first() \\\n",
    "            .reset_index()\n",
    "\n",
    "df_temp_2[\"number_of_previous_sess_product\"] = df_temp_2 \\\n",
    "                                            .sort_values(\"event_time\") \\\n",
    "                                            .groupby([\"user_id\", \"product_id\"]) \\\n",
    "                                            .cumcount()\n",
    "\n",
    "df_modelling = df_modelling.merge(df_temp_2[[\"user_session\", \"number_of_previous_sess_product\", \"product_id\"]], how = \"left\", on = [\"user_session\", \"product_id\"])\n",
    "\n",
    "# We remove rows without category, then create 2 columns with categories and sub categories\n",
    "#df_modelling = df_modelling.dropna(subset=[\"category_code\"],axis=0)\n",
    "df_modelling[\"category_code\"] = df_modelling[\"category_code\"].astype(\"str\")\n",
    "df_modelling[\"category\"] = df_modelling[\"category_code\"].apply(lambda x : x.split(\".\")[0])\n",
    "\n",
    "def sub_category(x):\n",
    "    try :\n",
    "        return x.split(\".\")[1]\n",
    "    except :\n",
    "        return \"nan\"\n",
    "\n",
    "df_modelling[\"sub_category\"] = df_modelling[\"category_code\"].apply(lambda x : sub_category(x))\n",
    "\n",
    "df_modelling = df_modelling[df_modelling[\"event_type\"] != \"view\"] \\\n",
    "                .drop_duplicates([\"user_session\", \"product_id\", \"purchase\"]) \\\n",
    "                .drop([\"event_type\", \"event_time\", \"category_code\", \"category_id\",\"event_day\"], axis=1) \\\n",
    "                .reset_index(drop=True)\n",
    "\n",
    "\n",
    "df_modelling.shape"
   ]
  },
  {
   "cell_type": "markdown",
   "metadata": {},
   "source": [
    "We created several columns :\n",
    "* __\"event_hour\", \"even_minute\", \"event_weekday\"__ to get some patterns on the date\n",
    "* __\"purchase\"__ to label if the product was purchased during gthe session (even if the event of the row is not a purchase)\n",
    "* __\"view_session\"__ to indicate the number of views during the session\n",
    "* __\"view_product_session\"__ to indicate how many times the product was vews during the session\n",
    "* __\"duration\"__ to indicate the duration of the session\n",
    "* __\"number_of_previous_sess\"__ indicates how many times the person connected to the website according to the event time\n",
    "* __\"number_of_previous_sess_product\"__ indicates how many times the person viewed the product in previous sessions according to event time\n",
    "* __\"category\"__ and __\"sub_category\"__ to extract the information on specific columns that we will encodate"
   ]
  },
  {
   "cell_type": "code",
   "execution_count": 5,
   "metadata": {},
   "outputs": [
    {
     "data": {
      "text/plain": [
       "1    0.780811\n",
       "0    0.219189\n",
       "Name: purchase, dtype: float64"
      ]
     },
     "execution_count": 5,
     "metadata": {},
     "output_type": "execute_result"
    }
   ],
   "source": [
    "df_modelling[\"purchase\"].value_counts()/len(df_modelling)"
   ]
  },
  {
   "cell_type": "code",
   "execution_count": 6,
   "metadata": {},
   "outputs": [],
   "source": [
    "# Create csv file\n",
    "\n",
    "df_modelling.to_csv(d+\"\\\\data\\\\primary.csv\", index = False)"
   ]
  },
  {
   "cell_type": "markdown",
   "metadata": {},
   "source": [
    "### Feature engineering\n",
    "\n",
    "Now that we added new columns, we will encode categorical features."
   ]
  },
  {
   "cell_type": "code",
   "execution_count": 7,
   "metadata": {},
   "outputs": [],
   "source": [
    "from sklearn.preprocessing import LabelEncoder\n",
    "\n",
    "df_feature = df_modelling.drop([\"user_id\", \"user_session\"], axis = 1)\n",
    "\n",
    "columns = [\"brand\", \"category\", \"sub_category\"]\n",
    "\n",
    "for col in columns:\n",
    "#    df_modelling[col] = df_modelling[col].astype(str)\n",
    "    df_feature.loc[df_feature[col] == \"nan\", \"sub_category\"] = \"unknown\"\n",
    "    df_feature.loc[:,col] = LabelEncoder().fit_transform(df_feature.loc[:,col].copy())\n"
   ]
  },
  {
   "cell_type": "markdown",
   "metadata": {},
   "source": [
    "We create the train and test sets"
   ]
  },
  {
   "cell_type": "code",
   "execution_count": 8,
   "metadata": {},
   "outputs": [],
   "source": [
    "from sklearn.model_selection import train_test_split\n",
    "\n",
    "X = df_feature.drop(\"purchase\", axis = 1)\n",
    "y = df_feature[\"purchase\"]\n",
    "\n",
    "X_train, X_test, y_train, y_test = train_test_split(X, y, test_size = 0.25, random_state = 40)\n",
    "\n",
    "X.to_csv((d+\"\\\\data\\\\X.csv\"), index=False)\n",
    "y.to_csv((d+\"\\\\data\\\\y.csv\"), index=False)\n",
    "\n",
    "X_train.to_csv((d+\"\\\\data\\\\X_train.csv\"), index=False)\n",
    "X_test.to_csv((d+\"\\\\data\\\\X_test.csv\"), index=False)\n",
    "y_train.to_csv((d+\"\\\\data\\\\y_train.csv\"), index=False)\n",
    "y_test.to_csv((d+\"\\\\data\\\\y_test.csv\"), index=False)"
   ]
  },
  {
   "cell_type": "markdown",
   "metadata": {},
   "source": [
    "### Modelling\n",
    "\n",
    "We now import the model that we will train and test __(LGBMClassifier)__ using cross validation first, then regular train/test set then."
   ]
  },
  {
   "cell_type": "code",
   "execution_count": 9,
   "metadata": {},
   "outputs": [
    {
     "name": "stderr",
     "output_type": "stream",
     "text": [
      "C:\\Users\\saman\\AppData\\Local\\Continuum\\anaconda3\\lib\\site-packages\\dask\\config.py:161: YAMLLoadWarning: calling yaml.load() without Loader=... is deprecated, as the default Loader is unsafe. Please read https://msg.pyyaml.org/load for full details.\n",
      "  data = yaml.load(f.read()) or {}\n",
      "C:\\Users\\saman\\AppData\\Local\\Continuum\\anaconda3\\lib\\site-packages\\dask\\dataframe\\utils.py:13: FutureWarning: pandas.util.testing is deprecated. Use the functions in the public API at pandas.testing instead.\n",
      "  import pandas.util.testing as tm\n",
      "C:\\Users\\saman\\AppData\\Local\\Continuum\\anaconda3\\lib\\site-packages\\distributed\\config.py:20: YAMLLoadWarning: calling yaml.load() without Loader=... is deprecated, as the default Loader is unsafe. Please read https://msg.pyyaml.org/load for full details.\n",
      "  defaults = yaml.load(f)\n"
     ]
    }
   ],
   "source": [
    "from lightgbm.sklearn import LGBMClassifier\n",
    "from sklearn.model_selection import RepeatedKFold\n",
    "from sklearn.metrics import f1_score\n",
    "\n",
    "rep_kfold = RepeatedKFold(n_splits=4, n_repeats=3)\n",
    "\n",
    "hyp_params = {\n",
    "    \"num_leaves\": 60,\n",
    "    \"min_child_samples\": 10,\n",
    "    \"max_depth\": 12,\n",
    "    \"n_estimators\": 100,\n",
    "    \"learning_rate\": 0.1\n",
    "}\n"
   ]
  },
  {
   "cell_type": "code",
   "execution_count": 10,
   "metadata": {},
   "outputs": [
    {
     "name": "stdout",
     "output_type": "stream",
     "text": [
      "(17228,) (5743,)\n",
      "(17228,) (5743,)\n",
      "(17228,) (5743,)\n",
      "(17229,) (5742,)\n",
      "(17228,) (5743,)\n",
      "(17228,) (5743,)\n",
      "(17228,) (5743,)\n",
      "(17229,) (5742,)\n",
      "(17228,) (5743,)\n",
      "(17228,) (5743,)\n",
      "(17228,) (5743,)\n",
      "(17229,) (5742,)\n"
     ]
    }
   ],
   "source": [
    "score_train = []\n",
    "score_test = []\n",
    "n_iter = 1\n",
    "\n",
    "for train_i, test_i in rep_kfold.split(X):\n",
    "    print(train_i.shape, test_i.shape)\n",
    "    X_fold_train = X.iloc[train_i, :]\n",
    "    y_fold_train = y.iloc[train_i]\n",
    "    X_fold_test = X.iloc[test_i, :]\n",
    "    y_fold_test = y.iloc[test_i]\n",
    "    \n",
    "    model = LGBMClassifier(**hyp_params, objective = \"binary\", verbose = -1)\n",
    "    model.fit(X_fold_train, y_fold_train)\n",
    "    \n",
    "    score_train.append(f1_score(y_fold_train, model.predict(X_fold_train)))\n",
    "    score_test.append(f1_score(y_fold_test, model.predict(X_fold_test)))\n",
    "\n",
    "    n_iter +=1"
   ]
  },
  {
   "cell_type": "code",
   "execution_count": 11,
   "metadata": {},
   "outputs": [
    {
     "name": "stdout",
     "output_type": "stream",
     "text": [
      "Avg score on train sets : 91.9%\n",
      "Avg score on test sets : 87.9%\n"
     ]
    },
    {
     "data": {
      "image/png": "[encoded data removed]",
      "text/plain": [
       "<Figure size 1008x288 with 1 Axes>"
      ]
     },
     "metadata": {},
     "output_type": "display_data"
    }
   ],
   "source": [
    "import matplotlib.pyplot as plt\n",
    "import seaborn as sns\n",
    "\n",
    "# Apply seaborn style on matplotlib\n",
    "sns.set()\n",
    "\n",
    "import matplotlib.ticker as mtick\n",
    "import numpy as np\n",
    "\n",
    "print(\"Avg score on train sets : {:2.1f}%\".format(np.mean(score_train)*100))\n",
    "print(\"Avg score on test sets : {:2.1f}%\".format(np.mean(score_test)*100))\n",
    "\n",
    "scores = pd.DataFrame.from_dict({\"Train Set\" : score_train, \"Test Set\" : score_test})\n",
    "\n",
    "plt.figure(figsize=(14, 4))\n",
    "sns.boxplot(data=scores, orient=\"h\")\n",
    "plt.title(\"Models scores\", fontsize=17)\n",
    "plt.gca().xaxis.set_major_formatter(mtick.PercentFormatter(1, 1))\n",
    "plt.show()"
   ]
  },
  {
   "cell_type": "code",
   "execution_count": 12,
   "metadata": {},
   "outputs": [
    {
     "name": "stdout",
     "output_type": "stream",
     "text": [
      "Score Train : 91.9%\n",
      "Score Test : 87.5%\n"
     ]
    }
   ],
   "source": [
    "model = LGBMClassifier(**hyp_params, objective = \"binary\", verbose = -1)\n",
    "model.fit(X_train, y_train)\n",
    "\n",
    "print(\"Score Train :{:5.1f}%\".format(f1_score(y_train, model.predict(X_train))*100))\n",
    "print(\"Score Test :{:5.1f}%\".format(f1_score(y_test, model.predict(X_test))*100))"
   ]
  },
  {
   "cell_type": "code",
   "execution_count": 13,
   "metadata": {},
   "outputs": [
    {
     "name": "stdout",
     "output_type": "stream",
     "text": [
      "Recall Test : 96.2%\n",
      "Precision Test : 80.2%\n"
     ]
    }
   ],
   "source": [
    "from sklearn.metrics import recall_score, precision_score\n",
    "\n",
    "print(\"Recall Test :{:5.1f}%\".format(recall_score(y_test,model.predict(X_test))*100))\n",
    "print(\"Precision Test :{:5.1f}%\".format(precision_score(y_test,model.predict(X_test))*100))"
   ]
  },
  {
   "cell_type": "code",
   "execution_count": 17,
   "metadata": {},
   "outputs": [
    {
     "data": {
      "image/png": "[encoded data removed]",
      "text/plain": [
       "<Figure size 1152x720 with 1 Axes>"
      ]
     },
     "metadata": {},
     "output_type": "display_data"
    }
   ],
   "source": [
    "import matplotlib.ticker as mtick\n",
    "\n",
    "from sklearn.calibration import calibration_curve\n",
    "\n",
    "prob_pos = model.predict_proba(X_test)[:, 1]\n",
    "fraction_of_positives, mean_predicted_value = calibration_curve(y_test, prob_pos, n_bins=20)\n",
    "\n",
    "plt.figure(figsize=(16, 10))\n",
    "plt.plot([0, 1], [0, 1], \"k--\", label=\"Perfectly calibrated\", alpha=0.6)\n",
    "plt.plot(mean_predicted_value, fraction_of_positives, \"s-\", label=\"Model\")\n",
    "plt.ylabel(\"Fraction of positives\")\n",
    "plt.xlabel(\"Predicted probabilites\")\n",
    "plt.legend()\n",
    "plt.gca().xaxis.set_major_formatter(mtick.PercentFormatter(1, 0))\n",
    "plt.gca().yaxis.set_major_formatter(mtick.PercentFormatter(1, 0))\n",
    "plt.title(\"Calibration Curve\")\n",
    "plt.show()"
   ]
  },
  {
   "cell_type": "code",
   "execution_count": 22,
   "metadata": {},
   "outputs": [
    {
     "data": {
      "text/plain": [
       "array([0.        , 0.09090909, 0.35294118, 0.22222222, 0.27272727,\n",
       "       0.5       , 0.40540541, 0.36065574, 0.46590909, 0.51282051,\n",
       "       0.52898551, 0.56      , 0.57525084, 0.63793103, 0.70736086,\n",
       "       0.76911544, 0.78272605, 0.88494318, 0.92449664, 0.97672163])"
      ]
     },
     "execution_count": 22,
     "metadata": {},
     "output_type": "execute_result"
    }
   ],
   "source": [
    "fraction_of_positives"
   ]
  },
  {
   "cell_type": "code",
   "execution_count": 23,
   "metadata": {},
   "outputs": [
    {
     "data": {
      "text/plain": [
       "array([0.03115264, 0.0752687 , 0.12689695, 0.17238313, 0.22524445,\n",
       "       0.27488565, 0.32937814, 0.37347299, 0.42544927, 0.47739906,\n",
       "       0.52533594, 0.57772602, 0.62722267, 0.67610766, 0.72556837,\n",
       "       0.77384465, 0.82588865, 0.87277916, 0.92441237, 0.98260924])"
      ]
     },
     "execution_count": 23,
     "metadata": {},
     "output_type": "execute_result"
    }
   ],
   "source": [
    "mean_predicted_value"
   ]
  },
  {
   "cell_type": "code",
   "execution_count": 24,
   "metadata": {},
   "outputs": [
    {
     "data": {
      "text/plain": [
       "19674    1\n",
       "9842     1\n",
       "4135     1\n",
       "6758     1\n",
       "2829     1\n",
       "        ..\n",
       "22602    1\n",
       "8650     1\n",
       "7111     1\n",
       "9207     1\n",
       "11994    0\n",
       "Name: purchase, Length: 5743, dtype: int32"
      ]
     },
     "execution_count": 24,
     "metadata": {},
     "output_type": "execute_result"
    }
   ],
   "source": [
    "y_test"
   ]
  },
  {
   "cell_type": "code",
   "execution_count": 27,
   "metadata": {},
   "outputs": [
    {
     "data": {
      "text/plain": [
       "array([0.67888192, 0.9108937 , 0.96148197, ..., 0.77127663, 0.81935051,\n",
       "       0.42891797])"
      ]
     },
     "execution_count": 27,
     "metadata": {},
     "output_type": "execute_result"
    }
   ],
   "source": [
    "prob_pos"
   ]
  },
  {
   "cell_type": "code",
   "execution_count": null,
   "metadata": {},
   "outputs": [],
   "source": []
  }
 ],
 "metadata": {
  "kernelspec": {
   "display_name": "Python 3 (ipykernel)",
   "language": "python",
   "name": "python3"
  },
  "language_info": {
   "codemirror_mode": {
    "name": "ipython",
    "version": 3
   },
   "file_extension": ".py",
   "mimetype": "text/x-python",
   "name": "python",
   "nbconvert_exporter": "python",
   "pygments_lexer": "ipython3",
   "version": "3.7.1"
  }
 },
 "nbformat": 4,
 "nbformat_minor": 2
}
