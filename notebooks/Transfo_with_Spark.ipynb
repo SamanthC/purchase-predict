{
 "cells": [
  {
   "cell_type": "markdown",
   "metadata": {},
   "source": [
    "# Data transformation with Spark\n",
    "\n",
    "Until now we only analyzed a sample (which was already 1+Gb) of one day. In run we'll have to deal with several days of data. As a consequence we can't do the transformation with pandas. To deal with such data, we'll use a Big Data framework called Spark."
   ]
  },
  {
   "cell_type": "code",
   "execution_count": 1,
   "metadata": {},
   "outputs": [],
   "source": [
    "import os\n",
    "import findspark\n",
    "import matplotlib.pyplot as plt\n",
    "\n",
    "from pyspark import SparkContext\n",
    "from pyspark.sql import SQLContext\n",
    "\n",
    "\n",
    "# Spécifie le chemin où est stocké Spark\n",
    "os.environ[\"SPARK_HOME\"] = \"C:\\\\Users\\\\saman\\\\spark-3.1.2-bin-hadoop3.2\"\n",
    "#os.environ[\"PYTHONPATH\"] = \"C:\\\\Users\\\\saman\\\\spark-2.4.3-bin-hadoop2.7\\\\python;C:\\\\Users\\\\saman\\\\spark-2.4.3-bin-hadoop2.7\\\\python\\\\lib\\\\py4j-0.10.7-src.zip:%PYTHONPATH%\"\n",
    "\n",
    "findspark.init()  # Trouve les exécutables dans le dossier SPARK_HOME\n",
    "sc = SparkContext(master=\"local[*]\")  # Crée un SparkContext local\n",
    "sql_c = SQLContext(sc)  # Instancie un SQLContext"
   ]
  },
  {
   "cell_type": "code",
   "execution_count": 2,
   "metadata": {},
   "outputs": [
    {
     "name": "stdout",
     "output_type": "stream",
     "text": [
      "root\n",
      " |-- event_time: string (nullable = true)\n",
      " |-- event_type: string (nullable = true)\n",
      " |-- product_id: string (nullable = true)\n",
      " |-- category_id: string (nullable = true)\n",
      " |-- category_code: string (nullable = true)\n",
      " |-- brand: string (nullable = true)\n",
      " |-- price: string (nullable = true)\n",
      " |-- user_id: string (nullable = true)\n",
      " |-- user_session: string (nullable = true)\n",
      "\n"
     ]
    }
   ],
   "source": [
    "d = os.getcwd()\n",
    "\n",
    "data = sql_c.read.csv(\n",
    "    d+\"\\\\data\\\\sample.csv\",\n",
    "    header=True\n",
    ")\n",
    "data.printSchema()"
   ]
  },
  {
   "cell_type": "markdown",
   "metadata": {},
   "source": [
    "We'll do the same transformation we did in pandas but in spark."
   ]
  },
  {
   "cell_type": "code",
   "execution_count": 3,
   "metadata": {},
   "outputs": [
    {
     "name": "stdout",
     "output_type": "stream",
     "text": [
      "root\n",
      " |-- event_time: timestamp (nullable = true)\n",
      " |-- event_type: string (nullable = true)\n",
      " |-- product_id: integer (nullable = true)\n",
      " |-- category_id: string (nullable = true)\n",
      " |-- category_code: string (nullable = true)\n",
      " |-- brand: string (nullable = true)\n",
      " |-- price: float (nullable = true)\n",
      " |-- user_id: integer (nullable = true)\n",
      " |-- user_session: string (nullable = true)\n",
      "\n"
     ]
    }
   ],
   "source": [
    "from pyspark.sql import functions as func\n",
    "\n",
    "data = data \\\n",
    "    .withColumn(\"event_time\", func.col(\"event_time\").cast(\"timestamp\")) \\\n",
    "    .withColumn(\"product_id\", func.col(\"product_id\").cast(\"int\")) \\\n",
    "    .withColumn(\"price\", func.col(\"price\").cast(\"float\")) \\\n",
    "    .withColumn(\"user_id\", func.col(\"user_id\").cast(\"int\"))\n",
    "\n",
    "data.printSchema()"
   ]
  },
  {
   "cell_type": "code",
   "execution_count": 4,
   "metadata": {},
   "outputs": [],
   "source": [
    "data_sessions = data.filter(func.col(\"user_session\").isNotNull())\n",
    "data_sessions_2 = data_sessions\n",
    "\n",
    "event_per_session = data_sessions_2 \\\n",
    "    .withColumn(\"purchase\", func.when(func.col(\"event_type\") == \"purchase\", 1).otherwise(0)) \\\n",
    "    .withColumn(\"view\", func.when(func.col(\"event_type\") == \"view\", 1).otherwise(0)) \\\n",
    "    .groupBy([\"user_session\", \"product_id\"]) \\\n",
    "    .agg(\n",
    "        func.max(\"purchase\").alias(\"purchase\"),\n",
    "        func.sum(\"view\").alias(\"nb_view_product\")\n",
    "    )"
   ]
  },
  {
   "cell_type": "code",
   "execution_count": 5,
   "metadata": {},
   "outputs": [
    {
     "name": "stdout",
     "output_type": "stream",
     "text": [
      "836767\n",
      "+--------------------+----------+--------+---------------+\n",
      "|        user_session|product_id|purchase|nb_view_product|\n",
      "+--------------------+----------+--------+---------------+\n",
      "|18ea1924-2c5a-4ac...|  15700204|       0|              1|\n",
      "|7a1f9af2-07e7-49f...|  26010220|       0|              1|\n",
      "|b634401f-45aa-43d...|  28101606|       0|              1|\n",
      "|0e863e87-5e2a-4f9...|  15100371|       0|              2|\n",
      "|702fc6ea-7275-4b8...|   1306776|       0|              1|\n",
      "|acf68be7-4fc8-49a...|   1005135|       0|              1|\n",
      "|b538e155-8163-460...|   9200581|       0|              1|\n",
      "|00d8be22-7bdc-46d...|  26400264|       0|              1|\n",
      "|07ba36a1-9af4-44b...|  17300768|       0|              1|\n",
      "|ce885079-4d92-4fe...|   1004750|       1|              2|\n",
      "|781f851e-1bf3-4f0...|  26200214|       0|              1|\n",
      "|104dc3e4-d6ff-4f0...|   1306650|       0|              1|\n",
      "|92532f93-7d84-413...|  17300351|       0|              1|\n",
      "|e2c32504-2d40-419...|   1801581|       0|              1|\n",
      "|c7e116fc-e626-434...|   1004767|       0|              1|\n",
      "|6766fd74-b356-446...|  48200030|       0|              1|\n",
      "|c734167c-1622-404...|   1004840|       0|              1|\n",
      "|34b89a5a-8244-49c...|  10700837|       0|              2|\n",
      "|e61adfcf-1038-496...|  23800009|       0|              1|\n",
      "|a3e62f46-6e32-494...|   1005105|       0|              1|\n",
      "+--------------------+----------+--------+---------------+\n",
      "only showing top 20 rows\n",
      "\n"
     ]
    }
   ],
   "source": [
    "print(event_per_session.count())\n",
    "event_per_session.show()"
   ]
  },
  {
   "cell_type": "code",
   "execution_count": 6,
   "metadata": {},
   "outputs": [
    {
     "name": "stdout",
     "output_type": "stream",
     "text": [
      "+--------------------+----------+--------+---------------+---------------+\n",
      "|        user_session|product_id|purchase|nb_view_product|nb_view_session|\n",
      "+--------------------+----------+--------+---------------+---------------+\n",
      "|0043d905-2c15-49e...|   1004665|       0|              1|              2|\n",
      "|0043d905-2c15-49e...|   8902408|       0|              1|              2|\n",
      "|0056e55b-b2fe-4b9...|   1004173|       1|              2|              3|\n",
      "|0056e55b-b2fe-4b9...|   1004038|       0|              1|              3|\n",
      "|00a1d70d-62aa-427...|  28717980|       0|              1|              2|\n",
      "|00a1d70d-62aa-427...|  28716931|       0|              1|              2|\n",
      "|00f8309d-abe7-46e...|   5100816|       0|              1|              5|\n",
      "|00f8309d-abe7-46e...|  21401211|       0|              1|              5|\n",
      "|00f8309d-abe7-46e...|  26021018|       0|              1|              5|\n",
      "|00f8309d-abe7-46e...|   9002822|       0|              1|              5|\n",
      "|00f8309d-abe7-46e...|   8901757|       0|              1|              5|\n",
      "|010d5618-ddb3-45a...|   2701661|       0|              2|              2|\n",
      "|01177013-93d6-40f...|   1004258|       0|              1|              1|\n",
      "|0126b13e-0565-4a7...|   1003304|       0|              1|              3|\n",
      "|0126b13e-0565-4a7...|   1005105|       0|              2|              3|\n",
      "|013f71d9-d555-4e6...|   2501301|       0|              3|              5|\n",
      "|013f71d9-d555-4e6...|   2700838|       0|              2|              5|\n",
      "|01632eb7-5979-466...|   4804056|       0|              1|              1|\n",
      "|01a1a88d-7b45-4d7...|   4804055|       0|              1|              1|\n",
      "|01d42f8a-ac4c-489...|   5100268|       0|              2|              2|\n",
      "+--------------------+----------+--------+---------------+---------------+\n",
      "only showing top 20 rows\n",
      "\n"
     ]
    }
   ],
   "source": [
    "view_per_session = data \\\n",
    "    .withColumn(\"view\", func.when(func.col(\"event_type\") == \"view\", 1).otherwise(0)) \\\n",
    "    .groupBy([\"user_session\"]) \\\n",
    "    .agg(func.sum(\"view\").alias(\"nb_view_session\"))\n",
    "\n",
    "event_per_session = event_per_session.join(\n",
    "    view_per_session,\n",
    "    on = [\"user_session\"],\n",
    "    how = \"inner\"\n",
    ")\n",
    "\n",
    "event_per_session.show()"
   ]
  },
  {
   "cell_type": "code",
   "execution_count": 7,
   "metadata": {},
   "outputs": [
    {
     "name": "stdout",
     "output_type": "stream",
     "text": [
      "+--------------------+---------+----------+-------+--------+---------------+---------------+\n",
      "|        user_session|  user_id|product_id|  brand|purchase|nb_view_product|nb_view_session|\n",
      "+--------------------+---------+----------+-------+--------+---------------+---------------+\n",
      "|0009154d-ba7e-442...|544269600|  22200061|   null|       0|              1|             12|\n",
      "|0024ad93-f41f-470...|513383328|  10301351|bburago|       0|              1|             14|\n",
      "|0028a4b2-72b7-4a7...|515260165|   4803977|samsung|       0|              1|              1|\n",
      "|004b1c27-3f71-43a...|519188740|   7004619|lorelli|       0|              1|              3|\n",
      "|007d6fd2-6c82-49e...|553206247|   5100503| xiaomi|       0|              1|              3|\n",
      "|00887f2f-3d45-4f8...|550813827|  18000928|samsung|       0|              1|              5|\n",
      "|00ba64fb-20bf-4fd...|548939215|   1005022|   oppo|       0|              4|             16|\n",
      "|00ba64fb-20bf-4fd...|548939215|   1005022|   oppo|       0|              4|             16|\n",
      "|00ba64fb-20bf-4fd...|548939215|   1005022|   oppo|       0|              4|             16|\n",
      "|00ba64fb-20bf-4fd...|548939215|   1005022|   oppo|       0|              4|             16|\n",
      "|00d269ea-6708-460...|524667809|   7201773|   lego|       0|              2|             10|\n",
      "|00d269ea-6708-460...|524667809|   7201773|   lego|       0|              2|             10|\n",
      "|00d83433-84ce-45a...|554327957|   1004886|   oppo|       0|              1|             23|\n",
      "|00d8be22-7bdc-46d...|554742703|  26400264|   null|       0|              1|              1|\n",
      "|00f0afc7-bbe9-4a0...|555765338|   1200947|samsung|       0|              1|              1|\n",
      "|01111c4e-d6a1-47d...|541437081|   1005021|   oppo|       0|              4|              4|\n",
      "|01111c4e-d6a1-47d...|541437081|   1005021|   oppo|       0|              4|              4|\n",
      "|01111c4e-d6a1-47d...|541437081|   1005021|   oppo|       0|              4|              4|\n",
      "|01111c4e-d6a1-47d...|541437081|   1005021|   oppo|       0|              4|              4|\n",
      "|011da88a-ccab-40c...|554085163|   1004870|samsung|       1|              1|              1|\n",
      "+--------------------+---------+----------+-------+--------+---------------+---------------+\n",
      "only showing top 20 rows\n",
      "\n"
     ]
    }
   ],
   "source": [
    "data_events = data_sessions.join(event_per_session, on = [\"user_session\", \"product_id\"], how = \"inner\")\n",
    "\n",
    "data_events.select(\"user_session\", \"user_id\", \"product_id\", \"brand\", \"purchase\", \"nb_view_product\", \"nb_view_session\").show()"
   ]
  },
  {
   "cell_type": "code",
   "execution_count": 8,
   "metadata": {},
   "outputs": [
    {
     "name": "stdout",
     "output_type": "stream",
     "text": [
      "+-------------------+----+------+-------+-----------+------------+\n",
      "|         event_time|hour|minute|weekday|   category|sub_category|\n",
      "+-------------------+----+------+-------+-----------+------------+\n",
      "|2019-10-01 12:35:26|  12|    35|      1|       null|        null|\n",
      "|2019-10-01 17:00:01|  17|     0|      1|       null|        null|\n",
      "|2019-10-01 20:42:51|  20|    42|      1|electronics|       audio|\n",
      "|2019-10-01 18:51:27|  18|    51|      1|       kids|    carriage|\n",
      "|2019-10-01 14:48:47|  14|    48|      1|       null|        null|\n",
      "|2019-10-01 19:59:32|  19|    59|      1|       null|        null|\n",
      "|2019-10-01 18:41:06|  18|    41|      1|electronics|  smartphone|\n",
      "|2019-10-01 18:41:50|  18|    41|      1|electronics|  smartphone|\n",
      "|2019-10-01 18:42:27|  18|    42|      1|electronics|  smartphone|\n",
      "|2019-10-01 18:45:46|  18|    45|      1|electronics|  smartphone|\n",
      "|2019-10-01 11:48:13|  11|    48|      1|       null|        null|\n",
      "|2019-10-01 11:50:57|  11|    50|      1|       null|        null|\n",
      "|2019-10-01 22:16:32|  22|    16|      1|electronics|  smartphone|\n",
      "|2019-10-01 01:50:00|   1|    50|      1|       null|        null|\n",
      "|2019-10-01 19:20:48|  19|    20|      1|electronics|      tablet|\n",
      "|2019-10-01 18:05:55|  18|     5|      1|electronics|  smartphone|\n",
      "|2019-10-01 18:06:29|  18|     6|      1|electronics|  smartphone|\n",
      "|2019-10-01 18:06:34|  18|     6|      1|electronics|  smartphone|\n",
      "|2019-10-01 18:07:09|  18|     7|      1|electronics|  smartphone|\n",
      "|2019-10-01 08:47:00|   8|    47|      1|electronics|  smartphone|\n",
      "+-------------------+----+------+-------+-----------+------------+\n",
      "only showing top 20 rows\n",
      "\n"
     ]
    }
   ],
   "source": [
    "data_events = data_events \\\n",
    "    .withColumn(\"hour\", func.hour(\"event_time\")) \\\n",
    "    .withColumn(\"minute\", func.minute(\"event_time\")) \\\n",
    "    .withColumn(\"weekday\", func.dayofweek(\"event_time\")-2) \\\n",
    "    .withColumn(\"category\", func.split(func.col(\"category_code\"), r\"\\.\").getItem(0)) \\\n",
    "    .withColumn(\"sub_category\", func.split(func.col(\"category_code\"), r\"\\.\").getItem(1)) \\\n",
    "\n",
    "# Attention pour le dayofweek : Spark considère Dimanche à 1, alors que Pandas considère Lundi à 0\n",
    "\n",
    "data_events = data_events \\\n",
    "    .withColumn(\"weekday\", func.when(func.col(\"weekday\") == -1, 6).otherwise(func.col(\"weekday\")))\n",
    "\n",
    "\n",
    "data_events.select(\"event_time\", \"hour\", \"minute\", \"weekday\", \"category\", \"sub_category\").show()"
   ]
  },
  {
   "cell_type": "code",
   "execution_count": 9,
   "metadata": {
    "scrolled": true
   },
   "outputs": [
    {
     "name": "stdout",
     "output_type": "stream",
     "text": [
      "+--------------------+-------------------+-------------------+--------+\n",
      "|        user_session|               amin|               amax|duration|\n",
      "+--------------------+-------------------+-------------------+--------+\n",
      "|0361d9eb-993c-465...|2019-10-01 05:47:12|2019-10-01 05:52:48|     336|\n",
      "|08bf8fbd-6234-4f9...|2019-10-01 13:13:07|2019-10-01 13:33:24|    1217|\n",
      "|18d2bcd8-538e-4a7...|2019-10-01 15:34:02|2019-10-01 15:40:22|     380|\n",
      "|1af2ed7b-5441-4dc...|2019-10-01 18:07:26|2019-10-01 18:10:00|     154|\n",
      "|1afe870d-8e38-46b...|2019-10-01 16:38:31|2019-10-01 16:42:32|     241|\n",
      "|23acc4df-4fb9-4a3...|2019-10-01 04:36:04|2019-10-01 04:36:04|       0|\n",
      "|2b63f75c-96aa-407...|2019-10-01 18:29:51|2019-10-01 18:32:37|     166|\n",
      "|2bfca724-500e-43b...|2019-10-01 20:33:12|2019-10-01 20:40:27|     435|\n",
      "|305af5ae-f35f-4b6...|2019-10-01 17:31:25|2019-10-01 17:45:12|     827|\n",
      "|3aa1073f-6ea2-4d3...|2019-10-01 10:19:45|2019-10-01 10:19:45|       0|\n",
      "|443f0871-e125-45c...|2019-10-01 12:24:43|2019-10-01 12:27:23|     160|\n",
      "|50b2d53f-0e09-471...|2019-10-01 13:08:14|2019-10-01 13:12:04|     230|\n",
      "|517e26b2-d30a-4ae...|2019-10-01 19:33:52|2019-10-01 19:56:23|    1351|\n",
      "|534bff98-4cbc-4c7...|2019-10-01 10:23:02|2019-10-01 10:25:01|     119|\n",
      "|55431b64-0c6b-4b9...|2019-10-01 19:32:51|2019-10-01 19:41:45|     534|\n",
      "|60fff5d7-93ad-4b3...|2019-10-01 20:40:03|2019-10-01 20:45:11|     308|\n",
      "|7418b46a-b7a2-4fb...|2019-10-01 11:56:57|2019-10-01 11:57:24|      27|\n",
      "|7fcbd92b-defd-47e...|2019-10-01 18:20:07|2019-10-01 18:32:16|     729|\n",
      "|8c4b6777-f405-401...|2019-10-01 05:20:25|2019-10-01 05:58:16|    2271|\n",
      "|904b9139-47f5-463...|2019-10-01 07:17:50|2019-10-01 07:21:29|     219|\n",
      "+--------------------+-------------------+-------------------+--------+\n",
      "only showing top 20 rows\n",
      "\n"
     ]
    }
   ],
   "source": [
    "sessions_duration = data_events \\\n",
    "    .groupBy([\"user_session\"]) \\\n",
    "    .agg(\n",
    "        func.min('event_time').alias('amin'),\n",
    "        func.max('event_time').alias('amax')\n",
    "    ) \\\n",
    "    .withColumn(\n",
    "        \"duration\",\n",
    "        func.col(\"amax\").cast(\"int\") - func.col(\"amin\").cast(\"int\")\n",
    "    )\n",
    "sessions_duration.show()"
   ]
  },
  {
   "cell_type": "code",
   "execution_count": 10,
   "metadata": {},
   "outputs": [
    {
     "name": "stdout",
     "output_type": "stream",
     "text": [
      "+--------------------+----------+-------------------+----------+-------------------+--------------------+---------+-------+---------+--------+---------------+---------------+----+------+-------+-----------+------------+-------------------+-------------------+--------+\n",
      "|        user_session|product_id|         event_time|event_type|        category_id|       category_code|    brand|  price|  user_id|purchase|nb_view_product|nb_view_session|hour|minute|weekday|   category|sub_category|               amin|               amax|duration|\n",
      "+--------------------+----------+-------------------+----------+-------------------+--------------------+---------+-------+---------+--------+---------------+---------------+----+------+-------+-----------+------------+-------------------+-------------------+--------+\n",
      "|0056e55b-b2fe-4b9...|   1004173|2019-10-01 13:19:04|  purchase|2053013555631882655|electronics.smart...|   xiaomi| 146.46|551801399|       1|              2|              3|  13|    19|      1|electronics|  smartphone|2019-10-01 13:12:49|2019-10-01 13:20:06|     437|\n",
      "|0365247c-c7af-43a...|   1004227|2019-10-01 15:04:27|      cart|2053013555631882655|electronics.smart...|    apple|1012.77|550818487|       0|              5|              9|  15|     4|      1|electronics|  smartphone|2019-10-01 15:03:34|2019-10-01 15:08:20|     286|\n",
      "|05157dad-c012-49b...|   1004741|2019-10-01 15:05:23|  purchase|2053013555631882655|electronics.smart...|   xiaomi| 185.71|539108987|       1|              2|              2|  15|     5|      1|electronics|  smartphone|2019-10-01 15:03:34|2019-10-01 15:05:59|     145|\n",
      "|05be52d9-2856-4b9...|  26200150|2019-10-01 06:48:28|  purchase|2053013563693335403|                null|     null| 153.67|536362326|       1|              2|              5|   6|    48|      1|       null|        null|2019-10-01 06:46:34|2019-10-01 06:48:59|     145|\n",
      "|05be52d9-2856-4b9...|  26402516|2019-10-01 06:47:22|  purchase|2053013563651392361|                null|     null| 562.53|536362326|       1|              3|              5|   6|    47|      1|       null|        null|2019-10-01 06:46:34|2019-10-01 06:48:59|     145|\n",
      "|08efb6ea-7b6f-494...|   1004833|2019-10-01 06:36:15|  purchase|2053013555631882655|electronics.smart...|  samsung| 174.75|512494095|       1|              1|              1|   6|    36|      1|electronics|  smartphone|2019-10-01 06:31:31|2019-10-01 06:36:15|     284|\n",
      "|08efb6ea-7b6f-494...|   1004833|2019-10-01 06:31:44|      cart|2053013555631882655|electronics.smart...|  samsung| 174.75|512494095|       1|              1|              1|   6|    31|      1|electronics|  smartphone|2019-10-01 06:31:31|2019-10-01 06:36:15|     284|\n",
      "|0ba98000-8062-45e...|   5801573|2019-10-01 22:18:58|  purchase|2053013553945772349|electronics.audio...|     null|  14.13|513758776|       1|              2|             16|  22|    18|      1|electronics|       audio|2019-10-01 22:14:05|2019-10-01 22:19:21|     316|\n",
      "|0d587602-1fb5-4f2...|   5100337|2019-10-01 14:54:11|  purchase|2053013553341792533|  electronics.clocks|    apple| 311.77|521771479|       1|              2|              2|  14|    54|      1|electronics|      clocks|2019-10-01 14:51:36|2019-10-01 14:54:40|     184|\n",
      "|0dfb3d81-eecb-4b1...|   1002528|2019-10-01 13:31:04|  purchase|2053013555631882655|electronics.smart...|    apple| 591.78|548805444|       1|              1|              1|  13|    31|      1|electronics|  smartphone|2019-10-01 13:30:42|2019-10-01 13:31:04|      22|\n",
      "|1725873e-807a-470...|   3300443|2019-10-01 07:45:57|  purchase|2053013555355058573|                null|  redmond|   71.3|541834315|       1|              2|              3|   7|    45|      1|       null|        null|2019-10-01 07:43:54|2019-10-01 07:46:21|     147|\n",
      "|194fc2ad-6a50-4dc...|   1004856|2019-10-01 03:57:31|  purchase|2053013555631882655|electronics.smart...|  samsung| 130.76|555477458|       1|              2|              2|   3|    57|      1|electronics|  smartphone|2019-10-01 03:55:13|2019-10-01 03:58:08|     175|\n",
      "|194fc2ad-6a50-4dc...|   1004856|2019-10-01 03:56:14|      cart|2053013555631882655|electronics.smart...|  samsung| 130.76|555477458|       1|              2|              2|   3|    56|      1|electronics|  smartphone|2019-10-01 03:55:13|2019-10-01 03:58:08|     175|\n",
      "|1b80a714-1514-429...|   3701056|2019-10-01 06:34:28|  purchase|2053013565983425517|appliances.enviro...|  samsung|  64.33|515015986|       1|              2|              2|   6|    34|      1| appliances| environment|2019-10-01 06:31:47|2019-10-01 06:38:10|     383|\n",
      "|1d696be2-f21f-4a6...|   4700043|2019-10-01 16:11:54|  purchase|2053013560899928785|auto.accessories....|transcend| 101.42|555701749|       1|              3|              3|  16|    11|      1|       auto| accessories|2019-10-01 16:10:36|2019-10-01 16:14:22|     226|\n",
      "|1de6455e-6496-463...|   1004858|2019-10-01 11:33:24|  purchase|2053013555631882655|electronics.smart...|  samsung| 133.81|527849582|       1|              1|              1|  11|    33|      1|electronics|  smartphone|2019-10-01 11:29:07|2019-10-01 11:33:24|     257|\n",
      "|1f80f4da-2b78-4c2...|  26000317|2019-10-01 15:29:31|  purchase|2053013562837697343|                null|     null|   8.73|519129014|       1|              2|              4|  15|    29|      1|       null|        null|2019-10-01 15:25:14|2019-10-01 15:29:31|     257|\n",
      "|23326bcd-d548-48a...|   1004258|2019-10-01 15:16:02|  purchase|2053013555631882655|electronics.smart...|    apple| 732.36|548907610|       1|              2|              4|  15|    16|      1|electronics|  smartphone|2019-10-01 15:13:11|2019-10-01 15:16:27|     196|\n",
      "|23326bcd-d548-48a...|   1004258|2019-10-01 15:14:35|      cart|2053013555631882655|electronics.smart...|    apple| 732.36|548907610|       1|              2|              4|  15|    14|      1|electronics|  smartphone|2019-10-01 15:13:11|2019-10-01 15:16:27|     196|\n",
      "|24920b49-4ebc-48c...|   1801995|2019-10-01 08:24:32|  purchase|2053013554415534427|electronics.video.tv|    haier| 193.03|514315058|       1|              2|              2|   8|    24|      1|electronics|       video|2019-10-01 08:22:31|2019-10-01 08:25:03|     152|\n",
      "+--------------------+----------+-------------------+----------+-------------------+--------------------+---------+-------+---------+--------+---------------+---------------+----+------+-------+-----------+------------+-------------------+-------------------+--------+\n",
      "only showing top 20 rows\n",
      "\n"
     ]
    }
   ],
   "source": [
    "dataset = data_events \\\n",
    "    .sort(\"event_time\") \\\n",
    "    .dropDuplicates([\"event_type\", \"product_id\", \"user_session\", \"user_id\"]) \\\n",
    "    .filter(func.col(\"event_type\").isin([\"cart\", \"purchase\"])) \\\n",
    "    .join(\n",
    "        sessions_duration,\n",
    "        on = [\"user_session\"],\n",
    "        how = \"inner\"\n",
    "    )\n",
    "    \n",
    "    \n",
    "dataset.show()"
   ]
  },
  {
   "cell_type": "code",
   "execution_count": 11,
   "metadata": {},
   "outputs": [],
   "source": [
    "from pyspark.sql.window import Window\n",
    "\n",
    "count_prev_sessions = dataset \\\n",
    "    .select([\"user_id\", \"user_session\", \"event_time\"]) \\\n",
    "    .withColumn( # Spark ne préserve pas l'ordre après le groupBy\n",
    "        \"event_time\", # On affecte pour chaque événement de la session le timestamp du début de session\n",
    "        func.first(\"event_time\").over(Window.partitionBy([\"user_id\", \"user_session\"]).orderBy(\"event_time\"))\n",
    "    ) \\\n",
    "    .groupBy([\"user_id\", \"user_session\"]) \\\n",
    "    .agg(\n",
    "        func.first(\"event_time\").alias(\"event_time\")\n",
    "    ) \\\n",
    "    .withColumn(\n",
    "        \"num_prev_sessions\",\n",
    "        func.row_number().over(Window.partitionBy([\"user_id\"]).orderBy(\"event_time\")) - 1\n",
    "    )        \n",
    "\n",
    "dataset = dataset.join(\n",
    "    count_prev_sessions.select([\"user_session\", \"num_prev_sessions\"]),\n",
    "    on =[\"user_session\"],\n",
    "    how = \"inner\"\n",
    ")"
   ]
  },
  {
   "cell_type": "code",
   "execution_count": 12,
   "metadata": {},
   "outputs": [],
   "source": [
    "view_prev_sessions = dataset \\\n",
    "    .select([\"user_id\", \"user_session\", \"event_time\", \"product_id\"]) \\\n",
    "    .withColumn(\n",
    "        \"event_time\",\n",
    "        func.first(\"event_time\").over(Window.partitionBy([\"user_id\", \"user_session\", \"product_id\"]).orderBy(\"event_time\"))\n",
    "    ) \\\n",
    "    .groupBy([\"user_id\", \"user_session\", \"product_id\"]) \\\n",
    "    .agg(\n",
    "        func.first(\"event_time\").alias(\"event_time\")\n",
    "    ) \\\n",
    "    .withColumn(\n",
    "        \"num_prev_product_view\",\n",
    "        func.row_number().over(Window.partitionBy([\"user_id\", \"product_id\"]).orderBy(\"event_time\")) - 1\n",
    "    )        \n",
    "\n",
    "dataset = dataset.join(\n",
    "    view_prev_sessions.select([\"user_session\", \"product_id\", \"num_prev_product_view\"]),\n",
    "    on =[\"user_session\", \"product_id\"],\n",
    "    how = \"inner\"\n",
    ")"
   ]
  },
  {
   "cell_type": "code",
   "execution_count": 14,
   "metadata": {},
   "outputs": [
    {
     "name": "stdout",
     "output_type": "stream",
     "text": [
      "+--------------------+---------------+---------------+--------+-----------------+---------------------+\n",
      "|        user_session|nb_view_product|nb_view_session|duration|num_prev_sessions|num_prev_product_view|\n",
      "+--------------------+---------------+---------------+--------+-----------------+---------------------+\n",
      "|ce885079-4d92-4fe...|              2|              4|     485|                0|                    0|\n",
      "|176b4ba0-aac7-440...|              2|             12|     838|                0|                    0|\n",
      "|89926d13-f182-41a...|              2|              2|      63|                0|                    0|\n",
      "|2a6df6d5-792c-426...|              1|              1|      57|                0|                    0|\n",
      "|0182b386-f17e-481...|              6|             30|    1492|                0|                    0|\n",
      "|91b11bcd-13e8-4e3...|              1|              1|     153|                0|                    0|\n",
      "|aa039047-fe42-48c...|              1|              1|     130|                0|                    0|\n",
      "|e6e12c57-f9ae-402...|              2|              2|     179|                0|                    0|\n",
      "|8a56e4a0-8f6b-4bb...|              1|              1|      31|                1|                    1|\n",
      "|c8fbf1bd-3887-4d4...|              2|              2|      60|                0|                    0|\n",
      "|966f1a08-30b2-499...|              1|              1|     880|                0|                    0|\n",
      "|9d2f241a-6f5a-43a...|              3|              3|      92|                0|                    0|\n",
      "|f0cb6030-e2cc-4c6...|              6|             21|     997|                0|                    0|\n",
      "|6e1ccce7-e147-44d...|              3|              5|     261|                0|                    0|\n",
      "|4900d75e-e538-480...|              3|              3|      51|                0|                    0|\n",
      "|90dd9f5a-3d91-4c6...|              2|              3|     922|                0|                    0|\n",
      "|064bd25b-af67-408...|              1|              1|     176|                0|                    0|\n",
      "|14224d4d-c41a-460...|              1|              1|      13|                2|                    0|\n",
      "|fb55f907-30c1-481...|              4|              5|     268|                0|                    0|\n",
      "|6a534ae6-ae56-426...|              2|              4|      90|                2|                    0|\n",
      "+--------------------+---------------+---------------+--------+-----------------+---------------------+\n",
      "only showing top 20 rows\n",
      "\n",
      "22971\n"
     ]
    }
   ],
   "source": [
    "dataset = dataset \\\n",
    "    .sort(\"event_time\") \\\n",
    "    .dropDuplicates([\"user_session\", \"product_id\", \"purchase\"]) \\\n",
    "    .select([c for c in dataset.columns if c not in \\\n",
    "             {\"event_time\", \"event_type\", \"category_code\", \"category_id\"}\n",
    "    ])\n",
    "\n",
    "dataset.select(\n",
    "    \"user_session\", \"nb_view_product\", \"nb_view_session\",\n",
    "    \"duration\", \"num_prev_sessions\", \"num_prev_product_view\"\n",
    ").show()\n",
    "\n",
    "print(dataset.count())"
   ]
  },
  {
   "cell_type": "code",
   "execution_count": 15,
   "metadata": {},
   "outputs": [],
   "source": [
    "import pandas as pd\n",
    "\n",
    "dataset_spark = dataset.toPandas()\n",
    "dataset_spark = dataset_spark.drop([\"amin\", \"amax\"], axis=1)"
   ]
  },
  {
   "cell_type": "code",
   "execution_count": 75,
   "metadata": {},
   "outputs": [],
   "source": [
    "dataset_pandas = pd.read_csv(d+\"\\\\data\\\\primary.csv\")"
   ]
  },
  {
   "cell_type": "code",
   "execution_count": 76,
   "metadata": {},
   "outputs": [],
   "source": [
    "import numpy as np\n",
    "\n",
    "dataset_pandas.rename(columns = {\"event_hour\" : \"hour\", \n",
    "                                 \"event_minute\" : \"minute\", \n",
    "                                 \"event_weekday\" : \"weekday\",\n",
    "                                 \"view_session\" : \"nb_view_session\",\n",
    "                                 \"view_product_session\" : \"nb_view_product\",\n",
    "                                 \"number_of_previous_sess\" : \"num_prev_sessions\",\n",
    "                                 \"number_of_previous_sess_product\" : \"num_prev_product_view\"\n",
    "                                }, inplace = True\n",
    "                     )\n",
    "\n",
    "dataset_pandas_compare = dataset_pandas \\\n",
    "    .set_index([\"user_session\", \"user_id\", \"product_id\"]).sort_index()\n",
    "\n",
    "dataset_spark_compare = dataset_spark[dataset_pandas.columns] \\\n",
    "    .set_index([\"user_session\", \"user_id\", \"product_id\"]).sort_index()\n",
    "\n",
    "# Attention au NaN vs None !\n",
    "dataset_pandas_compare = dataset_pandas_compare.fillna(0)\n",
    "dataset_spark_compare = dataset_spark_compare.fillna(0)\n",
    "\n",
    "dataset_pandas_compare[\"price\"] = np.floor(dataset_pandas_compare[\"price\"]).astype(float)\n",
    "dataset_spark_compare[\"price\"] = np.floor(dataset_spark_compare[\"price\"]).astype(float)\n",
    "\n",
    "# Puisque le format CSV n'est pas typé, il faut forcer la conversion !\n",
    "for col in dataset_spark_compare.columns:\n",
    "    if col not in [\"price\", \"brand\", \"category\", \"sub_category\"]:\n",
    "        dataset_pandas_compare[col] = dataset_pandas_compare[col].astype(int)\n",
    "        dataset_spark_compare[col] = dataset_spark_compare[col].astype(int)"
   ]
  },
  {
   "cell_type": "code",
   "execution_count": 77,
   "metadata": {},
   "outputs": [
    {
     "data": {
      "text/plain": [
       "False"
      ]
     },
     "execution_count": 77,
     "metadata": {},
     "output_type": "execute_result"
    }
   ],
   "source": [
    "dataset_pandas_compare.equals(dataset_spark_compare)"
   ]
  },
  {
   "cell_type": "code",
   "execution_count": 1,
   "metadata": {},
   "outputs": [
    {
     "ename": "NameError",
     "evalue": "name 'dataset_spark' is not defined",
     "output_type": "error",
     "traceback": [
      "\u001b[1;31m---------------------------------------------------------------------------\u001b[0m",
      "\u001b[1;31mNameError\u001b[0m                                 Traceback (most recent call last)",
      "\u001b[1;32m~\\AppData\\Local\\Temp/ipykernel_13940/1205067054.py\u001b[0m in \u001b[0;36m<module>\u001b[1;34m\u001b[0m\n\u001b[1;32m----> 1\u001b[1;33m \u001b[0mdataset_spark\u001b[0m\u001b[1;33m\u001b[0m\u001b[1;33m\u001b[0m\u001b[0m\n\u001b[0m",
      "\u001b[1;31mNameError\u001b[0m: name 'dataset_spark' is not defined"
     ]
    }
   ],
   "source": [
    "dataset_spark"
   ]
  },
  {
   "cell_type": "code",
   "execution_count": null,
   "metadata": {},
   "outputs": [],
   "source": []
  }
 ],
 "metadata": {
  "kernelspec": {
   "display_name": "Python 3 (ipykernel)",
   "language": "python",
   "name": "python3"
  },
  "language_info": {
   "codemirror_mode": {
    "name": "ipython",
    "version": 3
   },
   "file_extension": ".py",
   "mimetype": "text/x-python",
   "name": "python",
   "nbconvert_exporter": "python",
   "pygments_lexer": "ipython3",
   "version": "3.7.1"
  }
 },
 "nbformat": 4,
 "nbformat_minor": 2
}
